{
 "cells": [
  {
   "cell_type": "markdown",
   "metadata": {},
   "source": [
    "### Importing Libraries"
   ]
  },
  {
   "cell_type": "code",
   "execution_count": 1,
   "metadata": {},
   "outputs": [],
   "source": [
    "import numpy as np\n",
    "import matplotlib.pyplot as plt\n",
    "import os\n",
    "import sys\n",
    "import pandas as pd\n",
    "from IPython.display import clear_output as clr\n",
    "from sklearn.utils import class_weight\n",
    "%matplotlib inline"
   ]
  },
  {
   "cell_type": "markdown",
   "metadata": {},
   "source": [
    "### Setting working Directory"
   ]
  },
  {
   "cell_type": "code",
   "execution_count": 2,
   "metadata": {},
   "outputs": [
    {
     "name": "stdout",
     "output_type": "stream",
     "text": [
      "Working Directory :  /media/abhikcr/New Volume/Study/M.tech 1st Sem/Cyber Security/Homeworks/KDD/extracted/\n"
     ]
    }
   ],
   "source": [
    "dir_path = (os.getcwd()+'\\\\').replace(\"\\\\\",\"/\")\n",
    "print(\"Working Directory : \", dir_path)"
   ]
  },
  {
   "cell_type": "markdown",
   "metadata": {},
   "source": [
    "### Fucntions to Load files.."
   ]
  },
  {
   "cell_type": "code",
   "execution_count": 3,
   "metadata": {},
   "outputs": [],
   "source": [
    "def file_len(fname):\n",
    "    with open(fname) as f:\n",
    "        for i, l in enumerate(f):\n",
    "            pass\n",
    "    return i + 1"
   ]
  },
  {
   "cell_type": "code",
   "execution_count": 40,
   "metadata": {},
   "outputs": [],
   "source": [
    "def readlines(fname, start, end):\n",
    "#     fname = 'kddcup.data.corrected'\n",
    "    file = open(fname)\n",
    "    batch = []\n",
    "    r = end - start\n",
    "    for i in range(start):\n",
    "        line = file.readline()\n",
    "    for i in range(r):\n",
    "        line = file.readline()\n",
    "        batch.append(line.split(','))\n",
    "    file.close()\n",
    "    return batch"
   ]
  },
  {
   "cell_type": "code",
   "execution_count": 44,
   "metadata": {},
   "outputs": [],
   "source": [
    "def rmreadlines(fname, size):\n",
    "#     fname = 'kddcup.data.corrected'\n",
    "    Nobs = file_len(fname)\n",
    "    choices = np.sort(np.random.choice(Nobs,size, replace=False))\n",
    "    \n",
    "    k = 0\n",
    "    \n",
    "    file = open(fname)\n",
    "    batch = []\n",
    "    \n",
    "    \n",
    "    for i in range(Nobs):\n",
    "\n",
    "        line = file.readline()\n",
    "        if(k<choices.shape[0]):\n",
    "            if(choices[k] == i):\n",
    "                batch.append(line.split(','))\n",
    "                k = k+1\n",
    "            else:\n",
    "                pass\n",
    "        else:\n",
    "            break;\n",
    "    \n",
    "    file.close()\n",
    "    return batch"
   ]
  },
  {
   "cell_type": "markdown",
   "metadata": {},
   "source": [
    "### Preprocessing Splitting data in train and test files"
   ]
  },
  {
   "cell_type": "code",
   "execution_count": 5,
   "metadata": {},
   "outputs": [],
   "source": [
    "def split_file(fname, trainname, testname):\n",
    "    Nobs = file_len(fname)\n",
    "    tfp = int(Nobs*0.25)\n",
    "    choices = np.sort(np.random.choice(Nobs,tfp, replace=False))\n",
    "    k = 0\n",
    "    file = open(fname)\n",
    "    filetr = open(trainname, 'w')\n",
    "    filets = open(testname, 'w')\n",
    "    \n",
    "    for i in range(Nobs):\n",
    "        \n",
    "        line = file.readline()\n",
    "        if(k<choices.shape[0]):\n",
    "            if(choices[k] == i):\n",
    "                filets.write(line)\n",
    "                k = k+1\n",
    "            else:\n",
    "                filetr.write(line)\n",
    "        else:\n",
    "            filetr.write(line)\n",
    "            \n",
    "    filets.close()\n",
    "    filetr.close()\n",
    "    file.close()\n",
    "    return Nobs, choices.shape[0]"
   ]
  },
  {
   "cell_type": "code",
   "execution_count": 6,
   "metadata": {},
   "outputs": [],
   "source": [
    "# Nobs, test_size = split_file('kddcup.data.corrected', 'train','test')"
   ]
  },
  {
   "cell_type": "markdown",
   "metadata": {},
   "source": [
    "### Loading trainning data batchwise..."
   ]
  },
  {
   "cell_type": "code",
   "execution_count": 7,
   "metadata": {},
   "outputs": [],
   "source": [
    "def myArrayConverter(arr):\n",
    "    convertArr = []\n",
    "    for s in arr.ravel():    \n",
    "        try:\n",
    "            value = float(s)\n",
    "        except ValueError:\n",
    "            value = s\n",
    "        convertArr.append(value)\n",
    "    return array(convertArr,dtype=object).reshape(arr.shape)"
   ]
  },
  {
   "cell_type": "code",
   "execution_count": 8,
   "metadata": {},
   "outputs": [],
   "source": [
    "trainfile = 'train'\n",
    "testfile = 'test'"
   ]
  },
  {
   "cell_type": "code",
   "execution_count": 9,
   "metadata": {},
   "outputs": [
    {
     "name": "stdout",
     "output_type": "stream",
     "text": [
      "Training data has 3673824 observations\n"
     ]
    }
   ],
   "source": [
    "train_size = file_len(trainfile)\n",
    "print('Training data has',train_size, 'observations')"
   ]
  },
  {
   "cell_type": "code",
   "execution_count": 10,
   "metadata": {},
   "outputs": [],
   "source": [
    "batch_size = 100000\n",
    "n_batches = int(np.ceil(train_size/batch_size))"
   ]
  },
  {
   "cell_type": "markdown",
   "metadata": {},
   "source": [
    "### Modeling..."
   ]
  },
  {
   "cell_type": "code",
   "execution_count": 11,
   "metadata": {},
   "outputs": [],
   "source": [
    "label_list = pd.read_csv('training_attack_types', delimiter = ' ', index_col = False, names =['type', 'category'])"
   ]
  },
  {
   "cell_type": "code",
   "execution_count": 12,
   "metadata": {},
   "outputs": [],
   "source": [
    "label_list = label_list.assign(id_type=(label_list['type']).astype('category').cat.codes)\n",
    "label_list = label_list.assign(id_cat=(label_list['category']).astype('category').cat.codes)"
   ]
  },
  {
   "cell_type": "code",
   "execution_count": 13,
   "metadata": {},
   "outputs": [],
   "source": [
    "label_list = label_list.append({'type':'normal', 'category':'normal','id_type':'-1','id_cat':'-1'}, ignore_index = True)"
   ]
  },
  {
   "cell_type": "code",
   "execution_count": 14,
   "metadata": {},
   "outputs": [],
   "source": [
    "label_list['id_type'] = label_list['id_type'].astype(int)+1\n",
    "label_list['id_cat'] = label_list['id_cat'].astype(int)+1"
   ]
  },
  {
   "cell_type": "code",
   "execution_count": 15,
   "metadata": {},
   "outputs": [
    {
     "data": {
      "text/html": [
       "<div>\n",
       "<style scoped>\n",
       "    .dataframe tbody tr th:only-of-type {\n",
       "        vertical-align: middle;\n",
       "    }\n",
       "\n",
       "    .dataframe tbody tr th {\n",
       "        vertical-align: top;\n",
       "    }\n",
       "\n",
       "    .dataframe thead th {\n",
       "        text-align: right;\n",
       "    }\n",
       "</style>\n",
       "<table border=\"1\" class=\"dataframe\">\n",
       "  <thead>\n",
       "    <tr style=\"text-align: right;\">\n",
       "      <th></th>\n",
       "      <th>type</th>\n",
       "      <th>category</th>\n",
       "      <th>id_type</th>\n",
       "      <th>id_cat</th>\n",
       "    </tr>\n",
       "  </thead>\n",
       "  <tbody>\n",
       "    <tr>\n",
       "      <th>0</th>\n",
       "      <td>back</td>\n",
       "      <td>dos</td>\n",
       "      <td>1</td>\n",
       "      <td>1</td>\n",
       "    </tr>\n",
       "    <tr>\n",
       "      <th>1</th>\n",
       "      <td>buffer_overflow</td>\n",
       "      <td>u2r</td>\n",
       "      <td>2</td>\n",
       "      <td>4</td>\n",
       "    </tr>\n",
       "    <tr>\n",
       "      <th>2</th>\n",
       "      <td>ftp_write</td>\n",
       "      <td>r2l</td>\n",
       "      <td>3</td>\n",
       "      <td>3</td>\n",
       "    </tr>\n",
       "    <tr>\n",
       "      <th>3</th>\n",
       "      <td>guess_passwd</td>\n",
       "      <td>r2l</td>\n",
       "      <td>4</td>\n",
       "      <td>3</td>\n",
       "    </tr>\n",
       "    <tr>\n",
       "      <th>4</th>\n",
       "      <td>imap</td>\n",
       "      <td>r2l</td>\n",
       "      <td>5</td>\n",
       "      <td>3</td>\n",
       "    </tr>\n",
       "    <tr>\n",
       "      <th>5</th>\n",
       "      <td>ipsweep</td>\n",
       "      <td>probe</td>\n",
       "      <td>6</td>\n",
       "      <td>2</td>\n",
       "    </tr>\n",
       "    <tr>\n",
       "      <th>6</th>\n",
       "      <td>land</td>\n",
       "      <td>dos</td>\n",
       "      <td>7</td>\n",
       "      <td>1</td>\n",
       "    </tr>\n",
       "    <tr>\n",
       "      <th>7</th>\n",
       "      <td>loadmodule</td>\n",
       "      <td>u2r</td>\n",
       "      <td>8</td>\n",
       "      <td>4</td>\n",
       "    </tr>\n",
       "    <tr>\n",
       "      <th>8</th>\n",
       "      <td>multihop</td>\n",
       "      <td>r2l</td>\n",
       "      <td>9</td>\n",
       "      <td>3</td>\n",
       "    </tr>\n",
       "    <tr>\n",
       "      <th>9</th>\n",
       "      <td>neptune</td>\n",
       "      <td>dos</td>\n",
       "      <td>10</td>\n",
       "      <td>1</td>\n",
       "    </tr>\n",
       "    <tr>\n",
       "      <th>10</th>\n",
       "      <td>nmap</td>\n",
       "      <td>probe</td>\n",
       "      <td>11</td>\n",
       "      <td>2</td>\n",
       "    </tr>\n",
       "    <tr>\n",
       "      <th>11</th>\n",
       "      <td>perl</td>\n",
       "      <td>u2r</td>\n",
       "      <td>12</td>\n",
       "      <td>4</td>\n",
       "    </tr>\n",
       "    <tr>\n",
       "      <th>12</th>\n",
       "      <td>phf</td>\n",
       "      <td>r2l</td>\n",
       "      <td>13</td>\n",
       "      <td>3</td>\n",
       "    </tr>\n",
       "    <tr>\n",
       "      <th>13</th>\n",
       "      <td>pod</td>\n",
       "      <td>dos</td>\n",
       "      <td>14</td>\n",
       "      <td>1</td>\n",
       "    </tr>\n",
       "    <tr>\n",
       "      <th>14</th>\n",
       "      <td>portsweep</td>\n",
       "      <td>probe</td>\n",
       "      <td>15</td>\n",
       "      <td>2</td>\n",
       "    </tr>\n",
       "    <tr>\n",
       "      <th>15</th>\n",
       "      <td>rootkit</td>\n",
       "      <td>u2r</td>\n",
       "      <td>16</td>\n",
       "      <td>4</td>\n",
       "    </tr>\n",
       "    <tr>\n",
       "      <th>16</th>\n",
       "      <td>satan</td>\n",
       "      <td>probe</td>\n",
       "      <td>17</td>\n",
       "      <td>2</td>\n",
       "    </tr>\n",
       "    <tr>\n",
       "      <th>17</th>\n",
       "      <td>smurf</td>\n",
       "      <td>dos</td>\n",
       "      <td>18</td>\n",
       "      <td>1</td>\n",
       "    </tr>\n",
       "    <tr>\n",
       "      <th>18</th>\n",
       "      <td>spy</td>\n",
       "      <td>r2l</td>\n",
       "      <td>19</td>\n",
       "      <td>3</td>\n",
       "    </tr>\n",
       "    <tr>\n",
       "      <th>19</th>\n",
       "      <td>teardrop</td>\n",
       "      <td>dos</td>\n",
       "      <td>20</td>\n",
       "      <td>1</td>\n",
       "    </tr>\n",
       "    <tr>\n",
       "      <th>20</th>\n",
       "      <td>warezclient</td>\n",
       "      <td>r2l</td>\n",
       "      <td>21</td>\n",
       "      <td>3</td>\n",
       "    </tr>\n",
       "    <tr>\n",
       "      <th>21</th>\n",
       "      <td>warezmaster</td>\n",
       "      <td>r2l</td>\n",
       "      <td>22</td>\n",
       "      <td>3</td>\n",
       "    </tr>\n",
       "    <tr>\n",
       "      <th>22</th>\n",
       "      <td>normal</td>\n",
       "      <td>normal</td>\n",
       "      <td>0</td>\n",
       "      <td>0</td>\n",
       "    </tr>\n",
       "  </tbody>\n",
       "</table>\n",
       "</div>"
      ],
      "text/plain": [
       "               type category  id_type  id_cat\n",
       "0              back      dos        1       1\n",
       "1   buffer_overflow      u2r        2       4\n",
       "2         ftp_write      r2l        3       3\n",
       "3      guess_passwd      r2l        4       3\n",
       "4              imap      r2l        5       3\n",
       "5           ipsweep    probe        6       2\n",
       "6              land      dos        7       1\n",
       "7        loadmodule      u2r        8       4\n",
       "8          multihop      r2l        9       3\n",
       "9           neptune      dos       10       1\n",
       "10             nmap    probe       11       2\n",
       "11             perl      u2r       12       4\n",
       "12              phf      r2l       13       3\n",
       "13              pod      dos       14       1\n",
       "14        portsweep    probe       15       2\n",
       "15          rootkit      u2r       16       4\n",
       "16            satan    probe       17       2\n",
       "17            smurf      dos       18       1\n",
       "18              spy      r2l       19       3\n",
       "19         teardrop      dos       20       1\n",
       "20      warezclient      r2l       21       3\n",
       "21      warezmaster      r2l       22       3\n",
       "22           normal   normal        0       0"
      ]
     },
     "execution_count": 15,
     "metadata": {},
     "output_type": "execute_result"
    }
   ],
   "source": [
    "nClasses = label_list.shape[0]\n",
    "label_list"
   ]
  },
  {
   "cell_type": "code",
   "execution_count": 16,
   "metadata": {},
   "outputs": [],
   "source": [
    "def one_hot(a, num_classes):\n",
    "    return np.squeeze(np.eye(num_classes)[a.reshape(-1)])"
   ]
  },
  {
   "cell_type": "code",
   "execution_count": 17,
   "metadata": {},
   "outputs": [
    {
     "name": "stderr",
     "output_type": "stream",
     "text": [
      "Using TensorFlow backend.\n"
     ]
    }
   ],
   "source": [
    "import keras as kk"
   ]
  },
  {
   "cell_type": "code",
   "execution_count": 18,
   "metadata": {},
   "outputs": [],
   "source": [
    "import keras.models as km\n",
    "import keras.layers as kl\n",
    "import keras.optimizers as ko\n",
    "import keras.regularizers as kr"
   ]
  },
  {
   "cell_type": "code",
   "execution_count": 45,
   "metadata": {},
   "outputs": [],
   "source": [
    "currpos = 0\n",
    "# batch = readlines(trainfile, currpos, currpos + batch_size)\n",
    "batch = rmreadlines(trainfile, batch_size)\n",
    "\n",
    "\n",
    "batchdf = pd.DataFrame(np.array(batch)).astype(float, errors='ignore')\n",
    "\n",
    "for col in batchdf.columns:\n",
    "    batchdf[col] = batchdf[col].astype('float64', errors = 'ignore') \n",
    "\n",
    "batcharr = batchdf.values\n",
    "\n",
    "X = batcharr[:,:-1]\n",
    "Y = batcharr[:,-1]\n",
    "\n",
    "Y_num = np.ones(Y.shape)\n",
    "Y_num[Y == 'normal.\\n'] = 0\n",
    "\n",
    "Y_cat = Y_num.copy()\n",
    "Y_type = Y_num.copy()\n",
    "for i in label_list['type']:\n",
    "    Y_cat[Y == i+str('.\\n')] = label_list[label_list['type'] == i]['id_cat']\n",
    "    Y_type[Y == i+str('.\\n')] = label_list[label_list['type'] == i]['id_type']\n",
    "\n",
    "Y_num_hot = one_hot(Y_num.astype(int), 2)\n",
    "Y_cat_hot = one_hot(Y_cat.astype(int), 5)\n",
    "Y_type_hot = one_hot(Y_type.astype(int), 23)\n",
    "\n",
    "X_new_hot = np.delete(X,[1,2,3],1)"
   ]
  },
  {
   "cell_type": "code",
   "execution_count": 47,
   "metadata": {},
   "outputs": [
    {
     "data": {
      "text/plain": [
       "array(['back.\\n', 'ipsweep.\\n', 'land.\\n', 'loadmodule.\\n', 'neptune.\\n',\n",
       "       'nmap.\\n', 'normal.\\n', 'pod.\\n', 'portsweep.\\n', 'satan.\\n',\n",
       "       'smurf.\\n', 'spy.\\n', 'teardrop.\\n', 'warezclient.\\n',\n",
       "       'warezmaster.\\n'], dtype=object)"
      ]
     },
     "execution_count": 47,
     "metadata": {},
     "output_type": "execute_result"
    }
   ],
   "source": [
    "np.unique(Y)"
   ]
  },
  {
   "cell_type": "code",
   "execution_count": 20,
   "metadata": {},
   "outputs": [],
   "source": [
    "cw_num = class_weight.compute_class_weight('balanced',\n",
    "                                                 np.unique(Y_num),\n",
    "                                                 Y_num)\n",
    "cw_cat = class_weight.compute_class_weight('balanced',\n",
    "                                                 np.unique(Y_cat),\n",
    "                                                 Y_cat)\n",
    "cw_type = class_weight.compute_class_weight('balanced',\n",
    "                                                 np.unique(Y_type),\n",
    "                                                 Y_type)\n",
    "\n",
    "cws_num = np.arange(2)*0.0\n",
    "cws_num[np.unique(Y_num).astype(int)] = cw_num\n",
    "# cws_num\n",
    "\n",
    "cws_cat = np.arange(5)*0.0\n",
    "cws_cat[np.unique(Y_cat).astype(int)] = cw_cat\n",
    "# cws_cat\n",
    "\n",
    "cws_type = np.arange(23)*0.0\n",
    "cws_type[np.unique(Y_type).astype(int)] = cw_type\n",
    "# cws_type"
   ]
  },
  {
   "cell_type": "code",
   "execution_count": 21,
   "metadata": {},
   "outputs": [],
   "source": [
    "N,D = X_new_hot.shape"
   ]
  },
  {
   "cell_type": "code",
   "execution_count": 71,
   "metadata": {},
   "outputs": [],
   "source": [
    "def get_model(input_shape):\n",
    "    \n",
    "    \n",
    "    xin = kl.Input(shape = input_shape)\n",
    "    x = kl.Dense(128, activation='relu',kernel_regularizer=kr.l2(0.01))(xin)\n",
    "#     x = kl.Dense(64, activation='relu',kernel_regularizer=kr.l2(0.01))(x)\n",
    "    x1 = kl.Dense(32, activation='relu',kernel_regularizer=kr.l2(0.01))(x)\n",
    "    x1out = kl.Dense(2, activation='softmax', name = 'y1out',kernel_regularizer=kr.l2(0.01))(x1)\n",
    "    \n",
    "    x2 = kl.Dense(32, activation='relu',kernel_regularizer=kr.l2(0.01))(x)\n",
    "    \n",
    "    x2cat = kl.Concatenate(axis=-1)([x1out, x2])\n",
    "    \n",
    "    x2out = kl.Dense(5, activation='softmax', name = 'y2out',kernel_regularizer=kr.l2(0.01))(x2cat)\n",
    "    \n",
    "    x3cat = kl.Concatenate(axis=-1)([x2out, x])\n",
    "    \n",
    "    x3 = kl.Dense(32, activation='relu',kernel_regularizer=kr.l2(0.01))(x3cat)\n",
    "    \n",
    "    x3out = kl.Dense(23, activation='softmax', name = 'y3out',kernel_regularizer=kr.l2(0.01))(x3)\n",
    "    \n",
    "    model = km.Model(\n",
    "        inputs=xin,\n",
    "        outputs=[x1out,x2out,x3out],\n",
    "        name=\"fashionnet\")\n",
    "    return model"
   ]
  },
  {
   "cell_type": "code",
   "execution_count": 72,
   "metadata": {},
   "outputs": [],
   "source": [
    "model = get_model([D])"
   ]
  },
  {
   "cell_type": "code",
   "execution_count": 73,
   "metadata": {},
   "outputs": [],
   "source": [
    "losses = {\n",
    "    \"y1out\": \"categorical_crossentropy\",\n",
    "    \"y2out\": \"categorical_crossentropy\",\n",
    "    \"y3out\": \"categorical_hinge\",\n",
    "}"
   ]
  },
  {
   "cell_type": "code",
   "execution_count": 74,
   "metadata": {},
   "outputs": [],
   "source": [
    "lossWeights = {\"y1out\": 1.0, \"y2out\": 1.0, \"y3out\": 1.0}"
   ]
  },
  {
   "cell_type": "code",
   "execution_count": 75,
   "metadata": {},
   "outputs": [],
   "source": [
    "opt = ko.Adam(lr=0.01, beta_1=0.9, beta_2=0.999, epsilon=None, decay=1.0e-9, amsgrad=False)"
   ]
  },
  {
   "cell_type": "code",
   "execution_count": 76,
   "metadata": {},
   "outputs": [],
   "source": [
    "model.compile(optimizer=opt, loss=losses, loss_weights=lossWeights, metrics=[\"accuracy\"])"
   ]
  },
  {
   "cell_type": "code",
   "execution_count": 77,
   "metadata": {},
   "outputs": [
    {
     "name": "stdout",
     "output_type": "stream",
     "text": [
      "__________________________________________________________________________________________________\n",
      "Layer (type)                    Output Shape         Param #     Connected to                     \n",
      "==================================================================================================\n",
      "input_3 (InputLayer)            (None, 38)           0                                            \n",
      "__________________________________________________________________________________________________\n",
      "dense_10 (Dense)                (None, 128)          4992        input_3[0][0]                    \n",
      "__________________________________________________________________________________________________\n",
      "dense_11 (Dense)                (None, 32)           4128        dense_10[0][0]                   \n",
      "__________________________________________________________________________________________________\n",
      "y1out (Dense)                   (None, 2)            66          dense_11[0][0]                   \n",
      "__________________________________________________________________________________________________\n",
      "dense_12 (Dense)                (None, 32)           4128        dense_10[0][0]                   \n",
      "__________________________________________________________________________________________________\n",
      "concatenate_5 (Concatenate)     (None, 34)           0           y1out[0][0]                      \n",
      "                                                                 dense_12[0][0]                   \n",
      "__________________________________________________________________________________________________\n",
      "y2out (Dense)                   (None, 5)            175         concatenate_5[0][0]              \n",
      "__________________________________________________________________________________________________\n",
      "concatenate_6 (Concatenate)     (None, 133)          0           y2out[0][0]                      \n",
      "                                                                 dense_10[0][0]                   \n",
      "__________________________________________________________________________________________________\n",
      "dense_13 (Dense)                (None, 32)           4288        concatenate_6[0][0]              \n",
      "__________________________________________________________________________________________________\n",
      "y3out (Dense)                   (None, 23)           759         dense_13[0][0]                   \n",
      "==================================================================================================\n",
      "Total params: 18,536\n",
      "Trainable params: 18,536\n",
      "Non-trainable params: 0\n",
      "__________________________________________________________________________________________________\n"
     ]
    }
   ],
   "source": [
    "model.summary()"
   ]
  },
  {
   "cell_type": "code",
   "execution_count": 78,
   "metadata": {},
   "outputs": [
    {
     "name": "stdout",
     "output_type": "stream",
     "text": [
      "Epoch 1/1\n",
      "100000/100000 [==============================] - 8s 85us/step - loss: 27.7379 - y1out_loss: 12.8486 - y2out_loss: 12.8186 - y3out_loss: 1.6063 - y1out_acc: 0.2026 - y2out_acc: 0.2041 - y3out_acc: 0.1967\n"
     ]
    },
    {
     "data": {
      "text/plain": [
       "<keras.callbacks.History at 0x7f6ce13487b8>"
      ]
     },
     "execution_count": 78,
     "metadata": {},
     "output_type": "execute_result"
    }
   ],
   "source": [
    "model.fit(X_new_hot,{\"y1out\": Y_num_hot, \"y2out\": Y_cat_hot, \"y3out\": Y_type_hot},epochs=1, batch_size = 1000\n",
    "          ,class_weight={\"y1out\": cws_num, \"y2out\": cws_cat, \"y3out\": cws_type})"
   ]
  },
  {
   "cell_type": "code",
   "execution_count": null,
   "metadata": {},
   "outputs": [
    {
     "name": "stdout",
     "output_type": "stream",
     "text": [
      "\n",
      "Batch Size : 100000 at iteration : 1\n",
      "[0. 1.] [0. 1. 2. 3. 4.] [ 0.  1.  2.  6.  8. 10. 11. 14. 15. 17. 18. 20. 21. 22.]\n",
      "Epoch 1/1\n",
      "100000/100000 [==============================] - 6s 65us/step - loss: 0.2483 - y1out_loss: 0.0324 - y2out_loss: 0.0555 - y3out_loss: 0.0235 - y1out_acc: 0.9966 - y2out_acc: 0.9914 - y3out_acc: 0.9885\n",
      "\n",
      "Batch Size : 100000 at iteration : 2\n",
      "[0. 1.] [0. 1. 2. 3. 4.] [ 0.  1.  2.  4.  6. 10. 11. 14. 15. 16. 17. 18. 20. 21.]\n",
      "Epoch 1/1\n",
      "100000/100000 [==============================] - 8s 77us/step - loss: 1.7745 - y1out_loss: 0.5388 - y2out_loss: 0.2556 - y3out_loss: 0.6522 - y1out_acc: 0.9611 - y2out_acc: 0.9729 - y3out_acc: 0.6736\n",
      "\n",
      "Batch Size : 100000 at iteration : 3\n",
      "[0. 1.] [0. 1. 2. 3.] [ 0.  1.  3.  6.  9. 10. 11. 14. 15. 17. 18. 20. 21.]\n",
      "Epoch 1/1\n",
      "100000/100000 [==============================] - 6s 63us/step - loss: 2.2899 - y1out_loss: 0.1423 - y2out_loss: 1.1473 - y3out_loss: 0.3593 - y1out_acc: 0.9904 - y2out_acc: 0.9259 - y3out_acc: 0.8204\n",
      "\n",
      "Batch Size : 100000 at iteration : 4\n",
      "[0. 1.] [0. 1. 2. 3. 4.] [ 0.  1.  2.  4.  6. 10. 11. 14. 15. 16. 17. 18. 20. 21.]\n",
      "Epoch 1/1\n",
      "100000/100000 [==============================] - 7s 66us/step - loss: 1.0054 - y1out_loss: 0.0692 - y2out_loss: 0.2534 - y3out_loss: 0.0743 - y1out_acc: 0.9929 - y2out_acc: 0.9838 - y3out_acc: 0.9628\n",
      "\n",
      "Batch Size : 100000 at iteration : 5\n",
      "[0. 1.] [0. 1. 2. 3.] [ 0.  1.  4.  6.  7.  9. 10. 11. 14. 15. 17. 18. 20. 21.]\n",
      "Epoch 1/1\n",
      "100000/100000 [==============================] - 8s 78us/step - loss: 1.7150 - y1out_loss: 0.1079 - y2out_loss: 0.5978 - y3out_loss: 0.4147 - y1out_acc: 0.9923 - y2out_acc: 0.9609 - y3out_acc: 0.7926\n",
      "\n",
      "Batch Size : 100000 at iteration : 6\n",
      "[0. 1.] [0. 1. 2. 3. 4.] [ 0.  1.  6.  7. 10. 11. 14. 15. 16. 17. 18. 20. 21.]\n",
      "Epoch 1/1\n",
      "100000/100000 [==============================] - 7s 70us/step - loss: 3.7620 - y1out_loss: 0.4237 - y2out_loss: 1.2489 - y3out_loss: 1.2657 - y1out_acc: 0.9727 - y2out_acc: 0.9222 - y3out_acc: 0.3671\n",
      "\n",
      "Batch Size : 100000 at iteration : 7\n",
      "[0. 1.] [0. 1. 2. 3. 4.] [ 0.  1.  4.  6.  7. 10. 11. 14. 15. 16. 17. 18. 20. 21.]\n",
      "Epoch 1/1\n",
      "100000/100000 [==============================] - 7s 70us/step - loss: 3.3579 - y1out_loss: 0.2897 - y2out_loss: 1.0094 - y3out_loss: 1.1868 - y1out_acc: 0.9815 - y2out_acc: 0.9370 - y3out_acc: 0.4066\n",
      "\n",
      "Batch Size : 100000 at iteration : 8\n",
      "[0. 1.] [0. 1. 2. 3. 4.] [ 0.  1.  2.  4.  6. 10. 11. 14. 15. 17. 18. 20. 21.]\n",
      "Epoch 1/1\n",
      "100000/100000 [==============================] - 6s 61us/step - loss: 2.6906 - y1out_loss: 0.0967 - y2out_loss: 1.0053 - y3out_loss: 0.7956 - y1out_acc: 0.9935 - y2out_acc: 0.9371 - y3out_acc: 0.6022\n",
      "\n",
      "Batch Size : 100000 at iteration : 9\n",
      "[0. 1.] [0. 1. 2. 3.] [ 0.  1.  6. 10. 11. 14. 15. 17. 18. 20. 21. 22.]\n",
      "Epoch 1/1\n",
      "100000/100000 [==============================] - 7s 71us/step - loss: 2.1062 - y1out_loss: 0.0810 - y2out_loss: 0.7349 - y3out_loss: 0.4977 - y1out_acc: 0.9942 - y2out_acc: 0.9542 - y3out_acc: 0.7511\n"
     ]
    }
   ],
   "source": [
    "# model = km.load_model('model.h5')\n",
    "for epochs in range(50):\n",
    "\n",
    "    batch_size = 100000\n",
    "\n",
    "    batch = rmreadlines(trainfile, batch_size)\n",
    "    \n",
    "    batchdf = pd.DataFrame(np.array(batch)).astype(float, errors='ignore')\n",
    "\n",
    "    for col in batchdf.columns:\n",
    "        batchdf[col] = batchdf[col].astype('float64', errors = 'ignore') \n",
    "\n",
    "    batcharr = batchdf.values\n",
    "\n",
    "    X = batcharr[:,:-1]\n",
    "    Y = batcharr[:,-1]\n",
    "\n",
    "    \n",
    "    print('\\nBatch Size :', X.shape[0], 'at iteration :', epochs)\n",
    "    \n",
    "    Y_num = np.ones(Y.shape)\n",
    "    Y_num[Y == 'normal.\\n'] = 0\n",
    "\n",
    "    Y_cat = Y_num.copy()\n",
    "    Y_type = Y_num.copy()\n",
    "    for i in label_list['type']:\n",
    "        Y_cat[Y == i+str('.\\n')] = label_list[label_list['type'] == i]['id_cat']\n",
    "        Y_type[Y == i+str('.\\n')] = label_list[label_list['type'] == i]['id_type']\n",
    "\n",
    "    Y_num_hot = one_hot(Y_num.astype(int), 2)\n",
    "    Y_cat_hot = one_hot(Y_cat.astype(int), 5)\n",
    "    Y_type_hot = one_hot(Y_type.astype(int), 23)\n",
    "\n",
    "    X_new_hot = np.delete(X,[1,2,3],1)\n",
    "\n",
    "    print(np.unique(Y_num), np.unique(Y_cat),np.unique(Y_type))\n",
    "\n",
    "    cw_num = class_weight.compute_class_weight('balanced',\n",
    "                                         np.unique(Y_num),\n",
    "                                         Y_num)\n",
    "    cw_cat = class_weight.compute_class_weight('balanced',\n",
    "                                                     np.unique(Y_cat),\n",
    "                                                     Y_cat)\n",
    "    cw_type = class_weight.compute_class_weight('balanced',\n",
    "                                                     np.unique(Y_type),\n",
    "                                                     Y_type)\n",
    "\n",
    "    cws_num = np.arange(2)*0.0\n",
    "    cws_num[np.unique(Y_num).astype(int)] = cw_num\n",
    "    # cws_num\n",
    "\n",
    "    cws_cat = np.arange(5)*0.0\n",
    "    cws_cat[np.unique(Y_cat).astype(int)] = cw_cat\n",
    "    # cws_cat\n",
    "\n",
    "    cws_type = np.arange(23)*0.0\n",
    "    cws_type[np.unique(Y_type).astype(int)] = cw_type\n",
    "\n",
    "    if(X_new_hot.shape[1]!=D or np.unique(Y).shape[0] == 1):\n",
    "        continue;\n",
    "\n",
    "\n",
    "    model.fit(X_new_hot,{\"y1out\": Y_num_hot, \"y2out\": Y_cat_hot, \"y3out\": Y_type_hot},epochs=1, batch_size=1000\n",
    "             ,class_weight={\"y1out\": cws_num, \"y2out\": cws_cat, \"y3out\": cws_type}) \n",
    "    if(epochs%10 == 0):\n",
    "        clr()\n",
    "        model.save('model.h5')"
   ]
  },
  {
   "cell_type": "code",
   "execution_count": null,
   "metadata": {},
   "outputs": [],
   "source": []
  }
 ],
 "metadata": {
  "kernelspec": {
   "display_name": "Python 3",
   "language": "python",
   "name": "python3"
  },
  "language_info": {
   "codemirror_mode": {
    "name": "ipython",
    "version": 3
   },
   "file_extension": ".py",
   "mimetype": "text/x-python",
   "name": "python",
   "nbconvert_exporter": "python",
   "pygments_lexer": "ipython3",
   "version": "3.6.6"
  }
 },
 "nbformat": 4,
 "nbformat_minor": 2
}
